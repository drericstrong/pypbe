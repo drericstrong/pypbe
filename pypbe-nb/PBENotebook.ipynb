{
 "cells": [
  {
   "cell_type": "markdown",
   "metadata": {},
   "source": [
    "# Point Buy Equivalent Online Notebook\n",
    "This Jupyter notebook is designed with a simple GUI that allows the user to simulate the results from a random character attribute rolling method. It uses PyPBE as the backend.\n",
    "\n",
    "## Instructions\n",
    "Running this notebook interactively requires you to install Python 3, the latest version of which can be found here:\n",
    "\n",
    "https://www.python.org/downloads/\n",
    "\n",
    "Alternatively, if you're having trouble getting these instructions to work, you may want to download the scientific Anaconda package (preferred, but larger size):\n",
    "\n",
    "https://www.continuum.io/downloads\n",
    "\n",
    "Once Python 3 is installed, the following Python modules are also required:\n",
    "\n",
    "* ipywidgets\n",
    "* jupyter\n",
    "* numpy\n",
    "* matplotlib\n",
    "* seaborn\n",
    "* pypbe\n",
    "\n",
    "The \"install.bat\" file in this base directory can be used to install these modules automatically using pip (assuming that you are on Windows). Just double-click on the batch file to run it. If you installed Anaconda, most of these are available by default. Otherwise, you can install these modules by opening a command terminal and typing (for each of the six MODULEs above):\n",
    "\n",
    "**pip install MODULE**\n",
    "\n",
    "After those steps are complete, download this notebook to your computer. You can run a Jupyter notebook by typing:\n",
    "\n",
    "**jupyter notebook**\n",
    "\n",
    "in a command terminal, or if you installed Anaconda, open the \"Anaconda Navigator\" program and click on the \"Jupyter\" icon. Once the Jupyter notebook interface is open (it should appear in a web browser), navigate to where you downloaded this file, and click on it.\n",
    "\n",
    "Run the following code by clicking the next \"code\" cell, then clicking the green arrow (\"run\") above, and a series of sliders and a button should appear, which allows you to investigate the results from any random character attribute rolling method you desire. \n",
    "\n",
    "The plots will keep generating every time you click the button (so you can compare results), but you can re-run the cell using the green arrow in order to clear the current plots."
   ]
  },
  {
   "cell_type": "code",
   "execution_count": 2,
   "metadata": {},
   "outputs": [],
   "source": [
    "from ipywidgets import *\n",
    "from pypbe import PBE\n",
    "import matplotlib.pyplot as plt\n",
    "%matplotlib inline\n",
    "system = Dropdown(options=['pf', '3e', '4e', '5e'], value='pf', description='System:')\n",
    "dice_num = IntSlider(value=3, min=1, max=18, step=1, description='# of Dice')\n",
    "dice_keep = IntSlider(value=3, min=1, max=18, step=1, description='# Dice to Keep')\n",
    "dice_type = IntSlider(value=6, min=1, max=18, step=1, description='Dice Type')\n",
    "dice_add = IntSlider(value=0, min=0, max=18, step=1, description='Add')\n",
    "att_num = IntSlider(value=6, min=1, max=18, step=1, description='# of Attrs')\n",
    "att_keep = IntSlider(value=6, min=1, max=18, step=1, description='# Attr to Keep')\n",
    "arr_num = IntSlider(value=1, min=1, max=18, step=1, description='# of Arrays')\n",
    "rerolls = IntSlider(value=0, min=0, max=18, step=1, description='Rerolls')\n",
    "sim = Button(description='Simulate')\n",
    "def on_button_click(b):\n",
    "    alg = PBE(dice_num.value, dice_type.value, dice_add.value, att_num.value, \n",
    "              arr_num.value, rerolls.value, dice_keep.value, att_keep.value, \n",
    "              system.value)\n",
    "    alg.roll_mc(int(1e5)).plot_histogram()\n",
    "sim.on_click(on_button_click)\n",
    "VBox([system, dice_num, dice_keep, dice_type, dice_add, att_num, att_keep, arr_num,\n",
    "      rerolls, sim])"
   ]
  },
  {
   "cell_type": "markdown",
   "metadata": {},
   "source": [
    "Explanations of each property:\n",
    "\n",
    "* Number of Dice- the number of dice to roll (i.e. this is the \"3\" in \"3d6\")\n",
    "* Number of Dice to Keep- if you want to roll more dice than you need and then take the best N results. E.g. \"Roll 4d6 and drop the lowest roll\" would require a \"3\" here.\n",
    "* Dice Type- the type of dice to roll (i.e. six-sided, eight-sided, etc. This is the \"6\" in \"3d6\")\n",
    "* Add- the value to add to the dice roll. (i.e. this is the \"8\" in \"1d10+8\")\n",
    "* Number of Attributes- the number of ability scores to generate (e.g. 6)\n",
    "* Number of Attributes to Keep- if you want to roll more abilities than you need and then take the best N results. E.g. \"Roll 3d6 seven times, and take the best six times\" would require a \"6\" here.\n",
    "* Number of Arrays- The number of ability scores arrays that can be chosen from. For instance, 2 arrays might allow the player to choose between [12,10,6,11,15,17] and [6,9,12,18,15,10]\n",
    "* Rerolls- Allow dice re-rolling, cumulatively. \"0\" is no re-rolls, \"1\" is re-rolling 1s, and \"2\" is re-rolling 1s and 2s, and so on."
   ]
  }
 ],
 "metadata": {
  "kernelspec": {
   "display_name": "Python 3",
   "language": "python",
   "name": "python3"
  },
  "language_info": {
   "codemirror_mode": {
    "name": "ipython",
    "version": 3
   },
   "file_extension": ".py",
   "mimetype": "text/x-python",
   "name": "python",
   "nbconvert_exporter": "python",
   "pygments_lexer": "ipython3",
   "version": "3.6.0"
  },
  "widgets": {
   "state": {
    "ca089e91209f4f82a1bd6f65b078a6f8": {
     "views": [
      {
       "cell_index": 1
      }
     ]
    }
   },
   "version": "1.2.0"
  }
 },
 "nbformat": 4,
 "nbformat_minor": 2
}
